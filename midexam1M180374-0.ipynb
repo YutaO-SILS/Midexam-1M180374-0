{
 "cells": [
  {
   "cell_type": "markdown",
   "metadata": {},
   "source": [
    "1M180374-0 Yuta OGAWA"
   ]
  },
  {
   "cell_type": "markdown",
   "metadata": {},
   "source": [
    "1.Read in the ramen ratings file as a dataframe\n",
    "2.set appropriate index and column names and print out an overview of the dataframe"
   ]
  },
  {
   "cell_type": "code",
   "execution_count": 185,
   "metadata": {},
   "outputs": [
    {
     "data": {
      "text/html": [
       "<div>\n",
       "<style scoped>\n",
       "    .dataframe tbody tr th:only-of-type {\n",
       "        vertical-align: middle;\n",
       "    }\n",
       "\n",
       "    .dataframe tbody tr th {\n",
       "        vertical-align: top;\n",
       "    }\n",
       "\n",
       "    .dataframe thead th {\n",
       "        text-align: right;\n",
       "    }\n",
       "</style>\n",
       "<table border=\"1\" class=\"dataframe\">\n",
       "  <thead>\n",
       "    <tr style=\"text-align: right;\">\n",
       "      <th></th>\n",
       "      <th>Brand</th>\n",
       "      <th>Variety</th>\n",
       "      <th>Style</th>\n",
       "      <th>Country</th>\n",
       "      <th>Stars</th>\n",
       "      <th>Top Ten</th>\n",
       "    </tr>\n",
       "    <tr>\n",
       "      <th>Review #</th>\n",
       "      <th></th>\n",
       "      <th></th>\n",
       "      <th></th>\n",
       "      <th></th>\n",
       "      <th></th>\n",
       "      <th></th>\n",
       "    </tr>\n",
       "  </thead>\n",
       "  <tbody>\n",
       "    <tr>\n",
       "      <th>2580</th>\n",
       "      <td>New Touch</td>\n",
       "      <td>T's Restaurant Tantanmen</td>\n",
       "      <td>Cup</td>\n",
       "      <td>Japan</td>\n",
       "      <td>3.75</td>\n",
       "      <td>NaN</td>\n",
       "    </tr>\n",
       "    <tr>\n",
       "      <th>2579</th>\n",
       "      <td>Just Way</td>\n",
       "      <td>Noodles Spicy Hot Sesame Spicy Hot Sesame Guan...</td>\n",
       "      <td>Pack</td>\n",
       "      <td>Taiwan</td>\n",
       "      <td>1</td>\n",
       "      <td>NaN</td>\n",
       "    </tr>\n",
       "    <tr>\n",
       "      <th>2578</th>\n",
       "      <td>Nissin</td>\n",
       "      <td>Cup Noodles Chicken Vegetable</td>\n",
       "      <td>Cup</td>\n",
       "      <td>USA</td>\n",
       "      <td>2.25</td>\n",
       "      <td>NaN</td>\n",
       "    </tr>\n",
       "    <tr>\n",
       "      <th>2577</th>\n",
       "      <td>Wei Lih</td>\n",
       "      <td>GGE Ramen Snack Tomato Flavor</td>\n",
       "      <td>Pack</td>\n",
       "      <td>Taiwan</td>\n",
       "      <td>2.75</td>\n",
       "      <td>NaN</td>\n",
       "    </tr>\n",
       "    <tr>\n",
       "      <th>2576</th>\n",
       "      <td>Ching's Secret</td>\n",
       "      <td>Singapore Curry</td>\n",
       "      <td>Pack</td>\n",
       "      <td>India</td>\n",
       "      <td>3.75</td>\n",
       "      <td>NaN</td>\n",
       "    </tr>\n",
       "  </tbody>\n",
       "</table>\n",
       "</div>"
      ],
      "text/plain": [
       "                   Brand                                            Variety  \\\n",
       "Review #                                                                      \n",
       "2580           New Touch                          T's Restaurant Tantanmen    \n",
       "2579            Just Way  Noodles Spicy Hot Sesame Spicy Hot Sesame Guan...   \n",
       "2578              Nissin                      Cup Noodles Chicken Vegetable   \n",
       "2577             Wei Lih                      GGE Ramen Snack Tomato Flavor   \n",
       "2576      Ching's Secret                                    Singapore Curry   \n",
       "\n",
       "         Style Country Stars Top Ten  \n",
       "Review #                              \n",
       "2580       Cup   Japan  3.75     NaN  \n",
       "2579      Pack  Taiwan     1     NaN  \n",
       "2578       Cup     USA  2.25     NaN  \n",
       "2577      Pack  Taiwan  2.75     NaN  \n",
       "2576      Pack   India  3.75     NaN  "
      ]
     },
     "execution_count": 185,
     "metadata": {},
     "output_type": "execute_result"
    }
   ],
   "source": [
    "import pandas as pd\n",
    "df = pd.read_csv(\"ramen-ratings.csv\",index_col=0)\n",
    "df.head()"
   ]
  },
  {
   "cell_type": "markdown",
   "metadata": {},
   "source": [
    "3.Print a subset of the dataframe that only has the information of the brand of ramen and its score (hint: not groupby, or creation of new dataframe. How can we access specific rows or columns of data?)"
   ]
  },
  {
   "cell_type": "code",
   "execution_count": 189,
   "metadata": {},
   "outputs": [
    {
     "data": {
      "text/html": [
       "<div>\n",
       "<style scoped>\n",
       "    .dataframe tbody tr th:only-of-type {\n",
       "        vertical-align: middle;\n",
       "    }\n",
       "\n",
       "    .dataframe tbody tr th {\n",
       "        vertical-align: top;\n",
       "    }\n",
       "\n",
       "    .dataframe thead th {\n",
       "        text-align: right;\n",
       "    }\n",
       "</style>\n",
       "<table border=\"1\" class=\"dataframe\">\n",
       "  <thead>\n",
       "    <tr style=\"text-align: right;\">\n",
       "      <th></th>\n",
       "      <th>Brand</th>\n",
       "      <th>Stars</th>\n",
       "    </tr>\n",
       "    <tr>\n",
       "      <th>Review #</th>\n",
       "      <th></th>\n",
       "      <th></th>\n",
       "    </tr>\n",
       "  </thead>\n",
       "  <tbody>\n",
       "    <tr>\n",
       "      <th>2580</th>\n",
       "      <td>New Touch</td>\n",
       "      <td>3.75</td>\n",
       "    </tr>\n",
       "    <tr>\n",
       "      <th>2579</th>\n",
       "      <td>Just Way</td>\n",
       "      <td>1.00</td>\n",
       "    </tr>\n",
       "    <tr>\n",
       "      <th>2578</th>\n",
       "      <td>Nissin</td>\n",
       "      <td>2.25</td>\n",
       "    </tr>\n",
       "    <tr>\n",
       "      <th>2577</th>\n",
       "      <td>Wei Lih</td>\n",
       "      <td>2.75</td>\n",
       "    </tr>\n",
       "    <tr>\n",
       "      <th>2576</th>\n",
       "      <td>Ching's Secret</td>\n",
       "      <td>3.75</td>\n",
       "    </tr>\n",
       "  </tbody>\n",
       "</table>\n",
       "</div>"
      ],
      "text/plain": [
       "                   Brand  Stars\n",
       "Review #                       \n",
       "2580           New Touch   3.75\n",
       "2579            Just Way   1.00\n",
       "2578              Nissin   2.25\n",
       "2577             Wei Lih   2.75\n",
       "2576      Ching's Secret   3.75"
      ]
     },
     "execution_count": 189,
     "metadata": {},
     "output_type": "execute_result"
    }
   ],
   "source": [
    "df.loc[:,[\"Brand\",\"Stars\"]].head()"
   ]
  },
  {
   "cell_type": "markdown",
   "metadata": {},
   "source": [
    "4.Oh no, it seems the last column is full of null values. Convert these to NaN."
   ]
  },
  {
   "cell_type": "code",
   "execution_count": null,
   "metadata": {},
   "outputs": [],
   "source": [
    "#It automatically does that. Or rather NaN is a null value. Am I correct...?"
   ]
  },
  {
   "cell_type": "markdown",
   "metadata": {},
   "source": [
    "5.Display only the rows where the brand is Nissin and the rating is above 3.5 (some data type conversion might be necessary)"
   ]
  },
  {
   "cell_type": "code",
   "execution_count": null,
   "metadata": {},
   "outputs": [],
   "source": [
    "nissin_good = df[(df[\"Brand\"]==\"Nissin\")&(pd.to_numeric(df[\"Stars\"],errors=\"coerce\")>=3.5)]\n",
    "nissin_good.head()"
   ]
  },
  {
   "cell_type": "markdown",
   "metadata": {},
   "source": [
    "6.Group the ramen by brand and calculate the mean, max, and min values in a single output."
   ]
  },
  {
   "cell_type": "code",
   "execution_count": 186,
   "metadata": {},
   "outputs": [
    {
     "data": {
      "text/html": [
       "<div>\n",
       "<style scoped>\n",
       "    .dataframe tbody tr th:only-of-type {\n",
       "        vertical-align: middle;\n",
       "    }\n",
       "\n",
       "    .dataframe tbody tr th {\n",
       "        vertical-align: top;\n",
       "    }\n",
       "\n",
       "    .dataframe thead tr th {\n",
       "        text-align: left;\n",
       "    }\n",
       "\n",
       "    .dataframe thead tr:last-of-type th {\n",
       "        text-align: right;\n",
       "    }\n",
       "</style>\n",
       "<table border=\"1\" class=\"dataframe\">\n",
       "  <thead>\n",
       "    <tr>\n",
       "      <th></th>\n",
       "      <th colspan=\"3\" halign=\"left\">Stars</th>\n",
       "    </tr>\n",
       "    <tr>\n",
       "      <th></th>\n",
       "      <th>mean</th>\n",
       "      <th>min</th>\n",
       "      <th>max</th>\n",
       "    </tr>\n",
       "    <tr>\n",
       "      <th>Brand</th>\n",
       "      <th></th>\n",
       "      <th></th>\n",
       "      <th></th>\n",
       "    </tr>\n",
       "  </thead>\n",
       "  <tbody>\n",
       "    <tr>\n",
       "      <th>1 To 3 Noodles</th>\n",
       "      <td>4.000000</td>\n",
       "      <td>4.00</td>\n",
       "      <td>4.0</td>\n",
       "    </tr>\n",
       "    <tr>\n",
       "      <th>7 Select</th>\n",
       "      <td>3.750000</td>\n",
       "      <td>3.50</td>\n",
       "      <td>4.0</td>\n",
       "    </tr>\n",
       "    <tr>\n",
       "      <th>7 Select/Nissin</th>\n",
       "      <td>3.500000</td>\n",
       "      <td>3.50</td>\n",
       "      <td>3.5</td>\n",
       "    </tr>\n",
       "    <tr>\n",
       "      <th>A-One</th>\n",
       "      <td>2.750000</td>\n",
       "      <td>1.25</td>\n",
       "      <td>3.5</td>\n",
       "    </tr>\n",
       "    <tr>\n",
       "      <th>A-Sha Dry Noodle</th>\n",
       "      <td>4.067308</td>\n",
       "      <td>2.00</td>\n",
       "      <td>5.0</td>\n",
       "    </tr>\n",
       "  </tbody>\n",
       "</table>\n",
       "</div>"
      ],
      "text/plain": [
       "                     Stars           \n",
       "                      mean   min  max\n",
       "Brand                                \n",
       "1 To 3 Noodles    4.000000  4.00  4.0\n",
       "7 Select          3.750000  3.50  4.0\n",
       "7 Select/Nissin   3.500000  3.50  3.5\n",
       "A-One             2.750000  1.25  3.5\n",
       "A-Sha Dry Noodle  4.067308  2.00  5.0"
      ]
     },
     "execution_count": 186,
     "metadata": {},
     "output_type": "execute_result"
    }
   ],
   "source": [
    "\n",
    "df[\"Stars\"]=pd.to_numeric(df[\"Stars\"],errors=\"coerce\")\n",
    "\n",
    "grouped_brand = df.groupby(\"Brand\")\n",
    "grouped_brand.agg({'Stars':['mean','min','max']}).head()\n"
   ]
  },
  {
   "cell_type": "markdown",
   "metadata": {},
   "source": [
    "7.What is the mode rating for all ramen?"
   ]
  },
  {
   "cell_type": "code",
   "execution_count": 184,
   "metadata": {},
   "outputs": [
    {
     "name": "stdout",
     "output_type": "stream",
     "text": [
      "4.0\n"
     ]
    }
   ],
   "source": [
    "print(df['Stars'].mode()[0])"
   ]
  },
  {
   "cell_type": "markdown",
   "metadata": {},
   "source": [
    "8.Groupby brand and variety. Can you figure out a way to display this information in descending order (highest to lowest)? Which has the highest average?"
   ]
  },
  {
   "cell_type": "code",
   "execution_count": 195,
   "metadata": {},
   "outputs": [
    {
     "data": {
      "text/html": [
       "<div>\n",
       "<style scoped>\n",
       "    .dataframe tbody tr th:only-of-type {\n",
       "        vertical-align: middle;\n",
       "    }\n",
       "\n",
       "    .dataframe tbody tr th {\n",
       "        vertical-align: top;\n",
       "    }\n",
       "\n",
       "    .dataframe thead th {\n",
       "        text-align: right;\n",
       "    }\n",
       "</style>\n",
       "<table border=\"1\" class=\"dataframe\">\n",
       "  <thead>\n",
       "    <tr style=\"text-align: right;\">\n",
       "      <th></th>\n",
       "      <th></th>\n",
       "      <th>Stars</th>\n",
       "    </tr>\n",
       "    <tr>\n",
       "      <th>Brand</th>\n",
       "      <th>Variety</th>\n",
       "      <th></th>\n",
       "    </tr>\n",
       "  </thead>\n",
       "  <tbody>\n",
       "    <tr>\n",
       "      <th>Indomie</th>\n",
       "      <th>Mi Goreng Jumbo Beef</th>\n",
       "      <td>5.0</td>\n",
       "    </tr>\n",
       "    <tr>\n",
       "      <th>Sun Noodle</th>\n",
       "      <th>Ramen Miso Flavor</th>\n",
       "      <td>5.0</td>\n",
       "    </tr>\n",
       "    <tr>\n",
       "      <th>Samyang Foods</th>\n",
       "      <th>Nagasaki Crab Jjampong</th>\n",
       "      <td>5.0</td>\n",
       "    </tr>\n",
       "    <tr>\n",
       "      <th>Dream Kitchen</th>\n",
       "      <th>Curry Flavour Instant Noodles</th>\n",
       "      <td>5.0</td>\n",
       "    </tr>\n",
       "    <tr>\n",
       "      <th>Nissin</th>\n",
       "      <th>Raoh Rich Miso Flavor</th>\n",
       "      <td>5.0</td>\n",
       "    </tr>\n",
       "    <tr>\n",
       "      <th>Samyang Foods</th>\n",
       "      <th>Paegaejang Ramen</th>\n",
       "      <td>5.0</td>\n",
       "    </tr>\n",
       "    <tr>\n",
       "      <th>Nissin</th>\n",
       "      <th>Raoh Ramen Noodle Soup Umami Tonkotsu Flavor</th>\n",
       "      <td>5.0</td>\n",
       "    </tr>\n",
       "    <tr>\n",
       "      <th rowspan=\"2\" valign=\"top\">Samyang Foods</th>\n",
       "      <th>Red Nagasaki Jjampong</th>\n",
       "      <td>5.0</td>\n",
       "    </tr>\n",
       "    <tr>\n",
       "      <th>Samyang Ramen Classic Edition</th>\n",
       "      <td>5.0</td>\n",
       "    </tr>\n",
       "    <tr>\n",
       "      <th>Nissin</th>\n",
       "      <th>Raoh Pork Bone Soy Soup Noodle</th>\n",
       "      <td>5.0</td>\n",
       "    </tr>\n",
       "  </tbody>\n",
       "</table>\n",
       "</div>"
      ],
      "text/plain": [
       "                                                            Stars\n",
       "Brand         Variety                                            \n",
       "Indomie       Mi Goreng Jumbo Beef                            5.0\n",
       "Sun Noodle    Ramen Miso Flavor                               5.0\n",
       "Samyang Foods Nagasaki Crab Jjampong                          5.0\n",
       "Dream Kitchen Curry Flavour Instant Noodles                   5.0\n",
       "Nissin        Raoh Rich Miso Flavor                           5.0\n",
       "Samyang Foods Paegaejang Ramen                                5.0\n",
       "Nissin        Raoh Ramen Noodle Soup Umami Tonkotsu Flavor    5.0\n",
       "Samyang Foods Red Nagasaki Jjampong                           5.0\n",
       "              Samyang Ramen Classic Edition                   5.0\n",
       "Nissin        Raoh Pork Bone Soy Soup Noodle                  5.0"
      ]
     },
     "execution_count": 195,
     "metadata": {},
     "output_type": "execute_result"
    }
   ],
   "source": [
    "#groupby brand and variety\n",
    "grouped = df.groupby([\"Brand\",\"Variety\"]).mean()\n",
    "#displaying the information in desending order\n",
    "grouped.sort_values(\"Stars\",ascending = False).head(10)\n",
    "\n"
   ]
  },
  {
   "cell_type": "code",
   "execution_count": 196,
   "metadata": {},
   "outputs": [
    {
     "data": {
      "text/html": [
       "<div>\n",
       "<style scoped>\n",
       "    .dataframe tbody tr th:only-of-type {\n",
       "        vertical-align: middle;\n",
       "    }\n",
       "\n",
       "    .dataframe tbody tr th {\n",
       "        vertical-align: top;\n",
       "    }\n",
       "\n",
       "    .dataframe thead th {\n",
       "        text-align: right;\n",
       "    }\n",
       "</style>\n",
       "<table border=\"1\" class=\"dataframe\">\n",
       "  <thead>\n",
       "    <tr style=\"text-align: right;\">\n",
       "      <th></th>\n",
       "      <th></th>\n",
       "      <th>Stars</th>\n",
       "    </tr>\n",
       "    <tr>\n",
       "      <th>Brand</th>\n",
       "      <th>Variety</th>\n",
       "      <th></th>\n",
       "    </tr>\n",
       "  </thead>\n",
       "  <tbody>\n",
       "    <tr>\n",
       "      <th rowspan=\"6\" valign=\"top\">A-Sha Dry Noodle</th>\n",
       "      <th>Chow Mein Original Flavor</th>\n",
       "      <td>5.0</td>\n",
       "    </tr>\n",
       "    <tr>\n",
       "      <th>Dry Noodle Mandarin Noodle - Onion Oil Sauce</th>\n",
       "      <td>5.0</td>\n",
       "    </tr>\n",
       "    <tr>\n",
       "      <th>Dry Noodle QQ Thin Noodle - BBQ Sauce</th>\n",
       "      <td>5.0</td>\n",
       "    </tr>\n",
       "    <tr>\n",
       "      <th>Tainan Noodle Original Sauce</th>\n",
       "      <td>5.0</td>\n",
       "    </tr>\n",
       "    <tr>\n",
       "      <th>Veggie Noodle Baby Grass Noodle With Toona Sauce</th>\n",
       "      <td>5.0</td>\n",
       "    </tr>\n",
       "    <tr>\n",
       "      <th>Veggie Noodle Tomato Noodle With Vine Ripened Tomato Sauce</th>\n",
       "      <td>5.0</td>\n",
       "    </tr>\n",
       "    <tr>\n",
       "      <th>ABC</th>\n",
       "      <th>Mi Goreng Pangsit Fried Noodle With Dumpling</th>\n",
       "      <td>5.0</td>\n",
       "    </tr>\n",
       "    <tr>\n",
       "      <th>Acecook</th>\n",
       "      <th>Comet Mori Yukino Tan-tan men</th>\n",
       "      <td>5.0</td>\n",
       "    </tr>\n",
       "    <tr>\n",
       "      <th>Ah Lai</th>\n",
       "      <th>Penang Favourite White Curry Rice Vermicelli</th>\n",
       "      <td>5.0</td>\n",
       "    </tr>\n",
       "    <tr>\n",
       "      <th>Amianda</th>\n",
       "      <th>Tachia Dried Noodles - Rou Zhou Meat Sauce</th>\n",
       "      <td>5.0</td>\n",
       "    </tr>\n",
       "  </tbody>\n",
       "</table>\n",
       "</div>"
      ],
      "text/plain": [
       "                                                                     Stars\n",
       "Brand            Variety                                                  \n",
       "A-Sha Dry Noodle Chow Mein Original Flavor                             5.0\n",
       "                 Dry Noodle Mandarin Noodle - Onion Oil Sauce          5.0\n",
       "                 Dry Noodle QQ Thin Noodle - BBQ Sauce                 5.0\n",
       "                 Tainan Noodle Original Sauce                          5.0\n",
       "                 Veggie Noodle Baby Grass Noodle With Toona Sauce      5.0\n",
       "                 Veggie Noodle Tomato Noodle With Vine Ripened T...    5.0\n",
       "ABC              Mi Goreng Pangsit Fried Noodle With Dumpling          5.0\n",
       "Acecook          Comet Mori Yukino Tan-tan men                         5.0\n",
       "Ah Lai           Penang Favourite White Curry Rice Vermicelli          5.0\n",
       "Amianda          Tachia Dried Noodles - Rou Zhou Meat Sauce            5.0"
      ]
     },
     "execution_count": 196,
     "metadata": {},
     "output_type": "execute_result"
    }
   ],
   "source": [
    "#noodles with the highest average\n",
    "grouped[grouped[\"Stars\"] == grouped[\"Stars\"].max()].head(10)"
   ]
  },
  {
   "cell_type": "markdown",
   "metadata": {},
   "source": [
    "9.How many different brands of ramen are included in the dataset?"
   ]
  },
  {
   "cell_type": "code",
   "execution_count": 174,
   "metadata": {},
   "outputs": [
    {
     "name": "stdout",
     "output_type": "stream",
     "text": [
      "355\n"
     ]
    }
   ],
   "source": [
    "print(df[\"Brand\"].nunique())"
   ]
  }
 ],
 "metadata": {
  "interpreter": {
   "hash": "89bde6326b3aafad0b7665d4ac7a7aae50cdabf18d09bdd865ad408b758a827b"
  },
  "kernelspec": {
   "display_name": "Python 3.9.7 64-bit",
   "language": "python",
   "name": "python3"
  },
  "language_info": {
   "codemirror_mode": {
    "name": "ipython",
    "version": 3
   },
   "file_extension": ".py",
   "mimetype": "text/x-python",
   "name": "python",
   "nbconvert_exporter": "python",
   "pygments_lexer": "ipython3",
   "version": "3.9.7"
  },
  "orig_nbformat": 4
 },
 "nbformat": 4,
 "nbformat_minor": 2
}
